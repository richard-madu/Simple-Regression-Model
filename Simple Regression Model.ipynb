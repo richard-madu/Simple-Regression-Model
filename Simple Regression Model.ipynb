{
 "cells": [
  {
   "cell_type": "markdown",
   "id": "b2265767",
   "metadata": {},
   "source": [
    "# SIMPLE REGRESSION MODEL\n",
    "\n",
    "## Table of Contents\n",
    "<ul>\n",
    "<li><a href=\"#intro\">Introduction</a></li>\n",
    "<li><a href=\"#eda\">Exploratory Data Analysis</a></li>\n",
    "<li><a href=\"#Simple Regression Model\">Regression Model</a></li>\n",
    "<li><a href=\"#conclusions\">Conclusions</a></li>\n",
    "</ul>"
   ]
  },
  {
   "cell_type": "markdown",
   "id": "89865a4f",
   "metadata": {},
   "source": [
    "### Introduction\n",
    "\n",
    "**Title: Predicting Student Test Scores with Simple Regression**\n",
    "\n",
    "In the ever-evolving landscape of education, understanding the relationship between study hours and academic performance is crucial. This machine learning project delves into this connection by implementing a simple regression model. The dataset at the heart of this analysis contains just two columns: the study hours dedicated by students and their corresponding test scores.\n",
    "\n",
    "The motivation behind this project lies in uncovering patterns and trends that may aid educators and students alike in optimizing study strategies. Leveraging the power of regression analysis, we seek to quantify the impact of study hours on test scores, providing valuable insights into the factors influencing academic success.\n",
    "\n",
    "Our primary objective is to build a predictive model that accurately estimates a student's test score based on the number of hours they dedicate to studying. Through the lens of machine learning, we aim to discern the underlying relationship between study time and academic outcomes.\n",
    "\n",
    "As a practical application of our model, we extend its utility to predict the test score of a hypothetical student who invests 9.25 hours in studying—an exploration into how the model performs in real-world scenarios. This predictive aspect not only adds practicality to our analysis but also showcases the potential applications of machine learning in educational contexts.\n",
    "\n",
    "Join us on this journey of exploration as we uncover the dynamics between study hours and academic success, offering a glimpse into the possibilities that machine learning holds for enhancing our understanding of educational processes."
   ]
  },
  {
   "cell_type": "code",
   "execution_count": 15,
   "id": "812837cc",
   "metadata": {},
   "outputs": [],
   "source": [
    "#import the relevant libraries\n",
    "import pandas as pd\n",
    "import numpy as np\n",
    "from statistics import mean, median, mode\n",
    "from sklearn.linear_model import LinearRegression\n",
    "import matplotlib.pyplot as plt\n",
    "%matplotlib inline\n",
    "import seaborn as sns"
   ]
  },
  {
   "cell_type": "code",
   "execution_count": 2,
   "id": "52c0bbc1",
   "metadata": {},
   "outputs": [
    {
     "data": {
      "text/plain": [
       "<bound method NDFrame.head of     Hours  Scores\n",
       "0     2.5      21\n",
       "1     5.1      47\n",
       "2     3.2      27\n",
       "3     8.5      75\n",
       "4     3.5      30\n",
       "5     1.5      20\n",
       "6     9.2      88\n",
       "7     5.5      60\n",
       "8     8.3      81\n",
       "9     2.7      25\n",
       "10    7.7      85\n",
       "11    5.9      62\n",
       "12    4.5      41\n",
       "13    3.3      42\n",
       "14    1.1      17\n",
       "15    8.9      95\n",
       "16    2.5      30\n",
       "17    1.9      24\n",
       "18    6.1      67\n",
       "19    7.4      69\n",
       "20    2.7      30\n",
       "21    4.8      54\n",
       "22    3.8      35\n",
       "23    6.9      76\n",
       "24    7.8      86>"
      ]
     },
     "execution_count": 2,
     "metadata": {},
     "output_type": "execute_result"
    }
   ],
   "source": [
    "#import the dataset\n",
    "url = \"http://bit.ly/w-data\"\n",
    "df = pd.read_csv(url)\n",
    "df.head"
   ]
  },
  {
   "cell_type": "code",
   "execution_count": 3,
   "id": "89732d47",
   "metadata": {},
   "outputs": [
    {
     "name": "stdout",
     "output_type": "stream",
     "text": [
      "<class 'pandas.core.frame.DataFrame'>\n",
      "RangeIndex: 25 entries, 0 to 24\n",
      "Data columns (total 2 columns):\n",
      " #   Column  Non-Null Count  Dtype  \n",
      "---  ------  --------------  -----  \n",
      " 0   Hours   25 non-null     float64\n",
      " 1   Scores  25 non-null     int64  \n",
      "dtypes: float64(1), int64(1)\n",
      "memory usage: 528.0 bytes\n"
     ]
    }
   ],
   "source": [
    "#investigate the data\n",
    "df.info()"
   ]
  },
  {
   "cell_type": "code",
   "execution_count": 5,
   "id": "ee05b6e6",
   "metadata": {},
   "outputs": [
    {
     "data": {
      "text/plain": [
       "Hours     0\n",
       "Scores    0\n",
       "dtype: int64"
      ]
     },
     "execution_count": 5,
     "metadata": {},
     "output_type": "execute_result"
    }
   ],
   "source": [
    "#check for missing values\n",
    "df.isna().sum()"
   ]
  },
  {
   "cell_type": "markdown",
   "id": "98cece44",
   "metadata": {},
   "source": [
    "### Exploratory Data Analysis\n",
    "\n",
    "The aim for this analysis is to give a clearer picture of the structure of the data as well as addressing cleanliness issues in the data"
   ]
  },
  {
   "cell_type": "code",
   "execution_count": 9,
   "id": "95632c4b",
   "metadata": {},
   "outputs": [
    {
     "data": {
      "image/png": "[encoded data removed]",
      "text/plain": [
       "<Figure size 432x288 with 2 Axes>"
      ]
     },
     "metadata": {
      "needs_background": "light"
     },
     "output_type": "display_data"
    }
   ],
   "source": [
    "#explore the histogram of the data to check for outliers\n",
    "df.hist();"
   ]
  },
  {
   "cell_type": "markdown",
   "id": "60986b47",
   "metadata": {},
   "source": [
    "from the histograms we can see that there are no outliers in the data "
   ]
  },
  {
   "cell_type": "code",
   "execution_count": 16,
   "id": "80630f34",
   "metadata": {},
   "outputs": [
    {
     "name": "stdout",
     "output_type": "stream",
     "text": [
      "Mean Test Score: 51.48\n",
      "Median Test Score: 47\n",
      "Mode(s) of Test Scores: 30\n"
     ]
    }
   ],
   "source": [
    "# Calculate mean, median, and mode of test scores\n",
    "mean_score = mean(df['Scores'])\n",
    "median_score = median(df['Scores'])\n",
    "# Note: mode() returns a list because there can be multiple modes\n",
    "modes = mode(df['Scores'])\n",
    "\n",
    "print(f\"Mean Test Score: {mean_score}\")\n",
    "print(f\"Median Test Score: {median_score}\")\n",
    "print(f\"Mode(s) of Test Scores: {modes}\")"
   ]
  },
  {
   "cell_type": "code",
   "execution_count": 18,
   "id": "eebc7386",
   "metadata": {},
   "outputs": [
    {
     "name": "stdout",
     "output_type": "stream",
     "text": [
      "Mean Study hours: 5.0120000000000005\n",
      "Median Study hours: 4.8\n",
      "Mode(s) of Study hours: 2.5\n"
     ]
    }
   ],
   "source": [
    "#Calculate mean, median, and mode of test scores\n",
    "mean_score = mean(df['Hours'])\n",
    "median_score = median(df['Hours'])\n",
    "# Note: mode() returns a list because there can be multiple modes\n",
    "modes = mode(df['Hours'])\n",
    "\n",
    "print(f\"Mean Study hours: {mean_score}\")\n",
    "print(f\"Median Study hours: {median_score}\")\n",
    "print(f\"Mode(s) of Study hours: {modes}\")"
   ]
  },
  {
   "cell_type": "code",
   "execution_count": 13,
   "id": "b138a050",
   "metadata": {},
   "outputs": [
    {
     "data": {
      "text/plain": [
       "Text(0, 0.5, 'Test Scores')"
      ]
     },
     "execution_count": 13,
     "metadata": {},
     "output_type": "execute_result"
    },
    {
     "data": {
      "image/png": "[encoded data removed]",
      "text/plain": [
       "<Figure size 720x432 with 1 Axes>"
      ]
     },
     "metadata": {},
     "output_type": "display_data"
    }
   ],
   "source": [
    "# Create a scatter plot\n",
    "sns.set(style=\"whitegrid\")\n",
    "plt.figure(figsize=(10, 6))\n",
    "\n",
    "# Plot the scatter plot\n",
    "sns.scatterplot(x='Hours', y='Scores', data=df, color='blue', label='Data Points')\n",
    "\n",
    "plt.title('Scatter Plot with Regression Line')\n",
    "plt.xlabel('Study Hours')\n",
    "plt.ylabel('Test Scores')\n"
   ]
  },
  {
   "cell_type": "markdown",
   "id": "ab3c1ac4",
   "metadata": {},
   "source": [
    "There is a positive relationship between the test score and the study hours"
   ]
  },
  {
   "cell_type": "markdown",
   "id": "a9a65b36",
   "metadata": {},
   "source": [
    "### Regression Model"
   ]
  },
  {
   "cell_type": "code",
   "execution_count": 20,
   "id": "00ad86c7",
   "metadata": {},
   "outputs": [],
   "source": [
    "#create an intercept\n",
    "df['intercept'] = 1"
   ]
  },
  {
   "cell_type": "code",
   "execution_count": 21,
   "id": "f49f2b10",
   "metadata": {},
   "outputs": [
    {
     "data": {
      "text/html": [
       "<div>\n",
       "<style scoped>\n",
       "    .dataframe tbody tr th:only-of-type {\n",
       "        vertical-align: middle;\n",
       "    }\n",
       "\n",
       "    .dataframe tbody tr th {\n",
       "        vertical-align: top;\n",
       "    }\n",
       "\n",
       "    .dataframe thead th {\n",
       "        text-align: right;\n",
       "    }\n",
       "</style>\n",
       "<table border=\"1\" class=\"dataframe\">\n",
       "  <thead>\n",
       "    <tr style=\"text-align: right;\">\n",
       "      <th></th>\n",
       "      <th>Hours</th>\n",
       "      <th>Scores</th>\n",
       "      <th>intercept</th>\n",
       "    </tr>\n",
       "  </thead>\n",
       "  <tbody>\n",
       "    <tr>\n",
       "      <th>0</th>\n",
       "      <td>2.5</td>\n",
       "      <td>21</td>\n",
       "      <td>1</td>\n",
       "    </tr>\n",
       "    <tr>\n",
       "      <th>1</th>\n",
       "      <td>5.1</td>\n",
       "      <td>47</td>\n",
       "      <td>1</td>\n",
       "    </tr>\n",
       "    <tr>\n",
       "      <th>2</th>\n",
       "      <td>3.2</td>\n",
       "      <td>27</td>\n",
       "      <td>1</td>\n",
       "    </tr>\n",
       "    <tr>\n",
       "      <th>3</th>\n",
       "      <td>8.5</td>\n",
       "      <td>75</td>\n",
       "      <td>1</td>\n",
       "    </tr>\n",
       "    <tr>\n",
       "      <th>4</th>\n",
       "      <td>3.5</td>\n",
       "      <td>30</td>\n",
       "      <td>1</td>\n",
       "    </tr>\n",
       "  </tbody>\n",
       "</table>\n",
       "</div>"
      ],
      "text/plain": [
       "   Hours  Scores  intercept\n",
       "0    2.5      21          1\n",
       "1    5.1      47          1\n",
       "2    3.2      27          1\n",
       "3    8.5      75          1\n",
       "4    3.5      30          1"
      ]
     },
     "execution_count": 21,
     "metadata": {},
     "output_type": "execute_result"
    }
   ],
   "source": [
    "df.head()"
   ]
  },
  {
   "cell_type": "code",
   "execution_count": 22,
   "id": "ae1d6ff2",
   "metadata": {},
   "outputs": [],
   "source": [
    "# Splitting the dataset into features (X) and target variable (y)\n",
    "X = df.iloc[:,:1].values\n",
    "y = df.iloc[:, 1].values"
   ]
  },
  {
   "cell_type": "code",
   "execution_count": 24,
   "id": "24b371ec",
   "metadata": {},
   "outputs": [],
   "source": [
    "from sklearn.model_selection import train_test_split\n",
    "# Splitting the dataset into the training set and test set\n",
    "X_train, X_test, y_train, y_test = train_test_split(X, y, test_size=0.2, random_state=0)"
   ]
  },
  {
   "cell_type": "code",
   "execution_count": 25,
   "id": "14cfae00",
   "metadata": {},
   "outputs": [
    {
     "data": {
      "text/html": [
       "<style>#sk-container-id-1 {color: black;}#sk-container-id-1 pre{padding: 0;}#sk-container-id-1 div.sk-toggleable {background-color: white;}#sk-container-id-1 label.sk-toggleable__label {cursor: pointer;display: block;width: 100%;margin-bottom: 0;padding: 0.3em;box-sizing: border-box;text-align: center;}#sk-container-id-1 label.sk-toggleable__label-arrow:before {content: \"▸\";float: left;margin-right: 0.25em;color: #696969;}#sk-container-id-1 label.sk-toggleable__label-arrow:hover:before {color: black;}#sk-container-id-1 div.sk-estimator:hover label.sk-toggleable__label-arrow:before {color: black;}#sk-container-id-1 div.sk-toggleable__content {max-height: 0;max-width: 0;overflow: hidden;text-align: left;background-color: #f0f8ff;}#sk-container-id-1 div.sk-toggleable__content pre {margin: 0.2em;color: black;border-radius: 0.25em;background-color: #f0f8ff;}#sk-container-id-1 input.sk-toggleable__control:checked~div.sk-toggleable__content {max-height: 200px;max-width: 100%;overflow: auto;}#sk-container-id-1 input.sk-toggleable__control:checked~label.sk-toggleable__label-arrow:before {content: \"▾\";}#sk-container-id-1 div.sk-estimator input.sk-toggleable__control:checked~label.sk-toggleable__label {background-color: #d4ebff;}#sk-container-id-1 div.sk-label input.sk-toggleable__control:checked~label.sk-toggleable__label {background-color: #d4ebff;}#sk-container-id-1 input.sk-hidden--visually {border: 0;clip: rect(1px 1px 1px 1px);clip: rect(1px, 1px, 1px, 1px);height: 1px;margin: -1px;overflow: hidden;padding: 0;position: absolute;width: 1px;}#sk-container-id-1 div.sk-estimator {font-family: monospace;background-color: #f0f8ff;border: 1px dotted black;border-radius: 0.25em;box-sizing: border-box;margin-bottom: 0.5em;}#sk-container-id-1 div.sk-estimator:hover {background-color: #d4ebff;}#sk-container-id-1 div.sk-parallel-item::after {content: \"\";width: 100%;border-bottom: 1px solid gray;flex-grow: 1;}#sk-container-id-1 div.sk-label:hover label.sk-toggleable__label {background-color: #d4ebff;}#sk-container-id-1 div.sk-serial::before {content: \"\";position: absolute;border-left: 1px solid gray;box-sizing: border-box;top: 0;bottom: 0;left: 50%;z-index: 0;}#sk-container-id-1 div.sk-serial {display: flex;flex-direction: column;align-items: center;background-color: white;padding-right: 0.2em;padding-left: 0.2em;position: relative;}#sk-container-id-1 div.sk-item {position: relative;z-index: 1;}#sk-container-id-1 div.sk-parallel {display: flex;align-items: stretch;justify-content: center;background-color: white;position: relative;}#sk-container-id-1 div.sk-item::before, #sk-container-id-1 div.sk-parallel-item::before {content: \"\";position: absolute;border-left: 1px solid gray;box-sizing: border-box;top: 0;bottom: 0;left: 50%;z-index: -1;}#sk-container-id-1 div.sk-parallel-item {display: flex;flex-direction: column;z-index: 1;position: relative;background-color: white;}#sk-container-id-1 div.sk-parallel-item:first-child::after {align-self: flex-end;width: 50%;}#sk-container-id-1 div.sk-parallel-item:last-child::after {align-self: flex-start;width: 50%;}#sk-container-id-1 div.sk-parallel-item:only-child::after {width: 0;}#sk-container-id-1 div.sk-dashed-wrapped {border: 1px dashed gray;margin: 0 0.4em 0.5em 0.4em;box-sizing: border-box;padding-bottom: 0.4em;background-color: white;}#sk-container-id-1 div.sk-label label {font-family: monospace;font-weight: bold;display: inline-block;line-height: 1.2em;}#sk-container-id-1 div.sk-label-container {text-align: center;}#sk-container-id-1 div.sk-container {/* jupyter's `normalize.less` sets `[hidden] { display: none; }` but bootstrap.min.css set `[hidden] { display: none !important; }` so we also need the `!important` here to be able to override the default hidden behavior on the sphinx rendered scikit-learn.org. See: https://github.com/scikit-learn/scikit-learn/issues/21755 */display: inline-block !important;position: relative;}#sk-container-id-1 div.sk-text-repr-fallback {display: none;}</style><div id=\"sk-container-id-1\" class=\"sk-top-container\"><div class=\"sk-text-repr-fallback\"><pre>LinearRegression()</pre><b>In a Jupyter environment, please rerun this cell to show the HTML representation or trust the notebook. <br />On GitHub, the HTML representation is unable to render, please try loading this page with nbviewer.org.</b></div><div class=\"sk-container\" hidden><div class=\"sk-item\"><div class=\"sk-estimator sk-toggleable\"><input class=\"sk-toggleable__control sk-hidden--visually\" id=\"sk-estimator-id-1\" type=\"checkbox\" checked><label for=\"sk-estimator-id-1\" class=\"sk-toggleable__label sk-toggleable__label-arrow\">LinearRegression</label><div class=\"sk-toggleable__content\"><pre>LinearRegression()</pre></div></div></div></div></div>"
      ],
      "text/plain": [
       "LinearRegression()"
      ]
     },
     "execution_count": 25,
     "metadata": {},
     "output_type": "execute_result"
    }
   ],
   "source": [
    "# Training the linear regression model\n",
    "model = LinearRegression()\n",
    "model.fit(X_train, y_train)"
   ]
  },
  {
   "cell_type": "code",
   "execution_count": 29,
   "id": "c2080f1c",
   "metadata": {},
   "outputs": [
    {
     "name": "stdout",
     "output_type": "stream",
     "text": [
      "Coefficients: [9.91065648]\n",
      "Intercept: 2.0181600414346974\n"
     ]
    }
   ],
   "source": [
    "# Debugging: print the model coefficients\n",
    "print(\"Coefficients:\", model.coef_)\n",
    "print(\"Intercept:\", model.intercept_)"
   ]
  },
  {
   "cell_type": "code",
   "execution_count": 30,
   "id": "d736516e",
   "metadata": {},
   "outputs": [
    {
     "data": {
      "image/png": "[encoded data removed]",
      "text/plain": [
       "<Figure size 432x288 with 1 Axes>"
      ]
     },
     "metadata": {
      "needs_background": "light"
     },
     "output_type": "display_data"
    }
   ],
   "source": [
    "# Plot the regression line\n",
    "# Plot the regression line\n",
    "sns.lineplot(x=df['Hours'], y=model.predict(X), color='red', label='Regression Line')\n",
    "plt.title('Scatter Plot with Regression Line')\n",
    "plt.xlabel('Study Hours')\n",
    "plt.ylabel('Test Scores')\n",
    "plt.legend()\n",
    "plt.show()"
   ]
  },
  {
   "cell_type": "code",
   "execution_count": 31,
   "id": "f65c8e16",
   "metadata": {},
   "outputs": [],
   "source": [
    "# Predicting the scores for the test set\n",
    "y_pred = model.predict(X_test)"
   ]
  },
  {
   "cell_type": "code",
   "execution_count": 32,
   "id": "01b5c843",
   "metadata": {},
   "outputs": [
    {
     "name": "stdout",
     "output_type": "stream",
     "text": [
      "Predicted Score for 9.25 hours of study is: 93.69173248737535\n"
     ]
    }
   ],
   "source": [
    "# Predicting the score for a student who studies 9.25 hours per day\n",
    "hours = np.array([[9.25]])\n",
    "predicted_score = model.predict(hours)\n",
    "\n",
    "print(f\"Predicted Score for 9.25 hours of study is: {predicted_score[0]}\")\n"
   ]
  },
  {
   "cell_type": "markdown",
   "id": "a770bb3e",
   "metadata": {},
   "source": [
    "### Conclusion\n",
    "\n",
    "**Conclusion: Unraveling the Connection between Study Hours and Test Scores**\n",
    "\n",
    "In this exploration of the correlation between study hours and test scores, our machine learning project has provided valuable insights into the dynamics of academic performance. Leveraging a simple linear regression model, we delved into a dataset encompassing students' study hours and their corresponding test scores, aiming to uncover patterns that shed light on the impact of study habits on academic outcomes.\n",
    "\n",
    "Our analysis revealed a clear positive relationship between study hours and test scores, affirming the intuitive notion that dedicated study efforts contribute significantly to improved academic performance. The linear regression model successfully captured this relationship, allowing us to predict test scores based on the number of study hours.\n",
    "\n",
    "Of particular interest is the application of our model to forecast the test score for a hypothetical student investing 9.25 hours in study sessions. The predicted score of 93.7% emphasizes the potency of our regression model in estimating outcomes and showcases its practical utility in real-world scenarios.\n",
    "\n",
    "While our project offers valuable insights into the specific dataset at hand, it is important to acknowledge the limitations and nuances inherent in educational data. Factors beyond study hours, such as individual learning styles, external stressors, and other environmental variables, may influence academic outcomes.\n",
    "\n",
    "In conclusion, this project serves as a stepping stone towards a deeper understanding of the intricate relationship between study habits and academic success. The predicted score for a student studying 9.25 hours provides a glimpse into the potential of machine learning to inform educational strategies and foster a culture of data-driven decision-making in the realm of academia. As we conclude this exploration, we recognize the evolving nature of education and the continued opportunities for leveraging machine learning to enhance our understanding of the learning process."
   ]
  },
  {
   "cell_type": "code",
   "execution_count": null,
   "id": "7fae7089",
   "metadata": {},
   "outputs": [],
   "source": []
  }
 ],
 "metadata": {
  "kernelspec": {
   "display_name": "Python 3",
   "language": "python",
   "name": "python3"
  },
  "language_info": {
   "codemirror_mode": {
    "name": "ipython",
    "version": 3
   },
   "file_extension": ".py",
   "mimetype": "text/x-python",
   "name": "python",
   "nbconvert_exporter": "python",
   "pygments_lexer": "ipython3",
   "version": "3.8.9"
  }
 },
 "nbformat": 4,
 "nbformat_minor": 5
}
